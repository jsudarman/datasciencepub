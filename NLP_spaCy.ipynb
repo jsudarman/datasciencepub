{
 "cells": [
  {
   "cell_type": "code",
   "execution_count": 1,
   "id": "916d5909",
   "metadata": {
    "_cell_guid": "b1076dfc-b9ad-4769-8c92-a6c4dae69d19",
    "_uuid": "8f2839f25d086af736a60e9eeb907d3b93b6e0e5",
    "execution": {
     "iopub.execute_input": "2023-03-15T05:51:57.751987Z",
     "iopub.status.busy": "2023-03-15T05:51:57.751048Z",
     "iopub.status.idle": "2023-03-15T05:51:57.763850Z",
     "shell.execute_reply": "2023-03-15T05:51:57.762507Z"
    },
    "papermill": {
     "duration": 0.02213,
     "end_time": "2023-03-15T05:51:57.766791",
     "exception": false,
     "start_time": "2023-03-15T05:51:57.744661",
     "status": "completed"
    },
    "tags": []
   },
   "outputs": [],
   "source": [
    "# This Python 3 environment comes with many helpful analytics libraries installed\n",
    "# It is defined by the kaggle/python Docker image: https://github.com/kaggle/docker-python\n",
    "# For example, here's several helpful packages to load\n",
    "\n",
    "import numpy as np # linear algebra\n",
    "import pandas as pd # data processing, CSV file I/O (e.g. pd.read_csv)\n",
    "\n",
    "# Input data files are available in the read-only \"../input/\" directory\n",
    "# For example, running this (by clicking run or pressing Shift+Enter) will list all files under the input directory\n",
    "\n",
    "import os\n",
    "for dirname, _, filenames in os.walk('/kaggle/input'):\n",
    "    for filename in filenames:\n",
    "        print(os.path.join(dirname, filename))\n",
    "\n",
    "# You can write up to 20GB to the current directory (/kaggle/working/) that gets preserved as output when you create a version using \"Save & Run All\" \n",
    "# You can also write temporary files to /kaggle/temp/, but they won't be saved outside of the current session"
   ]
  },
  {
   "cell_type": "code",
   "execution_count": 2,
   "id": "1f107820",
   "metadata": {
    "execution": {
     "iopub.execute_input": "2023-03-15T05:51:57.775532Z",
     "iopub.status.busy": "2023-03-15T05:51:57.775118Z",
     "iopub.status.idle": "2023-03-15T05:52:16.616699Z",
     "shell.execute_reply": "2023-03-15T05:52:16.615264Z"
    },
    "papermill": {
     "duration": 18.849321,
     "end_time": "2023-03-15T05:52:16.619710",
     "exception": false,
     "start_time": "2023-03-15T05:51:57.770389",
     "status": "completed"
    },
    "tags": []
   },
   "outputs": [],
   "source": [
    "import spacy\n",
    "nlp = spacy.load('en_core_web_sm')"
   ]
  },
  {
   "cell_type": "code",
   "execution_count": 3,
   "id": "6461bea3",
   "metadata": {
    "execution": {
     "iopub.execute_input": "2023-03-15T05:52:16.629239Z",
     "iopub.status.busy": "2023-03-15T05:52:16.628522Z",
     "iopub.status.idle": "2023-03-15T05:52:16.662061Z",
     "shell.execute_reply": "2023-03-15T05:52:16.660590Z"
    },
    "papermill": {
     "duration": 0.041785,
     "end_time": "2023-03-15T05:52:16.665065",
     "exception": false,
     "start_time": "2023-03-15T05:52:16.623280",
     "status": "completed"
    },
    "tags": []
   },
   "outputs": [],
   "source": [
    "doc = nlp(\"Tea is healthy and calming, don't you think?\")"
   ]
  },
  {
   "cell_type": "code",
   "execution_count": 4,
   "id": "edb222c8",
   "metadata": {
    "execution": {
     "iopub.execute_input": "2023-03-15T05:52:16.673964Z",
     "iopub.status.busy": "2023-03-15T05:52:16.673520Z",
     "iopub.status.idle": "2023-03-15T05:52:16.680568Z",
     "shell.execute_reply": "2023-03-15T05:52:16.678841Z"
    },
    "papermill": {
     "duration": 0.014542,
     "end_time": "2023-03-15T05:52:16.683227",
     "exception": false,
     "start_time": "2023-03-15T05:52:16.668685",
     "status": "completed"
    },
    "tags": []
   },
   "outputs": [
    {
     "name": "stdout",
     "output_type": "stream",
     "text": [
      "Tea\n",
      "is\n",
      "healthy\n",
      "and\n",
      "calming\n",
      ",\n",
      "do\n",
      "n't\n",
      "you\n",
      "think\n",
      "?\n"
     ]
    }
   ],
   "source": [
    "for token in doc:\n",
    "    print(token)"
   ]
  },
  {
   "cell_type": "code",
   "execution_count": 5,
   "id": "de171eee",
   "metadata": {
    "execution": {
     "iopub.execute_input": "2023-03-15T05:52:16.692161Z",
     "iopub.status.busy": "2023-03-15T05:52:16.691740Z",
     "iopub.status.idle": "2023-03-15T05:52:16.699873Z",
     "shell.execute_reply": "2023-03-15T05:52:16.698423Z"
    },
    "papermill": {
     "duration": 0.016107,
     "end_time": "2023-03-15T05:52:16.702901",
     "exception": false,
     "start_time": "2023-03-15T05:52:16.686794",
     "status": "completed"
    },
    "tags": []
   },
   "outputs": [
    {
     "name": "stdout",
     "output_type": "stream",
     "text": [
      "Token \t\tLemma \t\tStopword\n",
      "----------------------------------------\n",
      "Tea\t\ttea\t\tFalse\n",
      "is\t\tbe\t\tTrue\n",
      "healthy\t\thealthy\t\tFalse\n",
      "and\t\tand\t\tTrue\n",
      "calming\t\tcalming\t\tFalse\n",
      ",\t\t,\t\tFalse\n",
      "do\t\tdo\t\tTrue\n",
      "n't\t\tnot\t\tTrue\n",
      "you\t\tyou\t\tTrue\n",
      "think\t\tthink\t\tFalse\n",
      "?\t\t?\t\tFalse\n"
     ]
    }
   ],
   "source": [
    "print(f\"Token \\t\\tLemma \\t\\tStopword\".format('Token', 'Lemma', 'Stopword'))\n",
    "print(\"-\"*40)\n",
    "for token in doc:\n",
    "    print(f\"{str(token)}\\t\\t{token.lemma_}\\t\\t{token.is_stop}\")"
   ]
  },
  {
   "cell_type": "code",
   "execution_count": 6,
   "id": "379feecf",
   "metadata": {
    "execution": {
     "iopub.execute_input": "2023-03-15T05:52:16.712442Z",
     "iopub.status.busy": "2023-03-15T05:52:16.711700Z",
     "iopub.status.idle": "2023-03-15T05:52:16.718594Z",
     "shell.execute_reply": "2023-03-15T05:52:16.717263Z"
    },
    "papermill": {
     "duration": 0.014712,
     "end_time": "2023-03-15T05:52:16.721334",
     "exception": false,
     "start_time": "2023-03-15T05:52:16.706622",
     "status": "completed"
    },
    "tags": []
   },
   "outputs": [],
   "source": [
    "from spacy.matcher import PhraseMatcher\n",
    "matcher = PhraseMatcher(nlp.vocab, attr='LOWER')"
   ]
  },
  {
   "cell_type": "code",
   "execution_count": 7,
   "id": "be105bd7",
   "metadata": {
    "execution": {
     "iopub.execute_input": "2023-03-15T05:52:16.730923Z",
     "iopub.status.busy": "2023-03-15T05:52:16.730499Z",
     "iopub.status.idle": "2023-03-15T05:52:16.764809Z",
     "shell.execute_reply": "2023-03-15T05:52:16.763547Z"
    },
    "papermill": {
     "duration": 0.042715,
     "end_time": "2023-03-15T05:52:16.767855",
     "exception": false,
     "start_time": "2023-03-15T05:52:16.725140",
     "status": "completed"
    },
    "tags": []
   },
   "outputs": [],
   "source": [
    "terms = ['Galaxy Note', 'iPhone 11', 'iPhone XS', 'Google Pixel']\n",
    "patterns = [nlp(text) for text in terms]\n",
    "matcher.add(\"TerminologyList\", patterns)"
   ]
  },
  {
   "cell_type": "code",
   "execution_count": 8,
   "id": "e77d32df",
   "metadata": {
    "execution": {
     "iopub.execute_input": "2023-03-15T05:52:16.777677Z",
     "iopub.status.busy": "2023-03-15T05:52:16.777270Z",
     "iopub.status.idle": "2023-03-15T05:52:16.800252Z",
     "shell.execute_reply": "2023-03-15T05:52:16.798310Z"
    },
    "papermill": {
     "duration": 0.031486,
     "end_time": "2023-03-15T05:52:16.803095",
     "exception": false,
     "start_time": "2023-03-15T05:52:16.771609",
     "status": "completed"
    },
    "tags": []
   },
   "outputs": [
    {
     "name": "stdout",
     "output_type": "stream",
     "text": [
      "[(3766102292120407359, 17, 19), (3766102292120407359, 22, 24), (3766102292120407359, 30, 32), (3766102292120407359, 33, 35)]\n"
     ]
    }
   ],
   "source": [
    "text_doc = nlp(\"Glowing review overall, and some really interesting side-by-side \"\n",
    "               \"photography tests pitting the iPhone 11 Pro against the \"\n",
    "               \"Galaxy Note 10 Plus and last year’s iPhone XS and Google Pixel 3.\") \n",
    "matches = matcher(text_doc)\n",
    "print(matches)"
   ]
  },
  {
   "cell_type": "code",
   "execution_count": 9,
   "id": "ab875906",
   "metadata": {
    "execution": {
     "iopub.execute_input": "2023-03-15T05:52:16.812887Z",
     "iopub.status.busy": "2023-03-15T05:52:16.812007Z",
     "iopub.status.idle": "2023-03-15T05:52:16.819563Z",
     "shell.execute_reply": "2023-03-15T05:52:16.818205Z"
    },
    "papermill": {
     "duration": 0.015859,
     "end_time": "2023-03-15T05:52:16.822645",
     "exception": false,
     "start_time": "2023-03-15T05:52:16.806786",
     "status": "completed"
    },
    "tags": []
   },
   "outputs": [
    {
     "name": "stdout",
     "output_type": "stream",
     "text": [
      "TerminologyList iPhone 11\n"
     ]
    }
   ],
   "source": [
    "match_id, start, end = matches[0]\n",
    "print(nlp.vocab.strings[match_id], text_doc[start:end])"
   ]
  },
  {
   "cell_type": "code",
   "execution_count": null,
   "id": "a9cb8e65",
   "metadata": {
    "papermill": {
     "duration": 0.003737,
     "end_time": "2023-03-15T05:52:16.830658",
     "exception": false,
     "start_time": "2023-03-15T05:52:16.826921",
     "status": "completed"
    },
    "tags": []
   },
   "outputs": [],
   "source": []
  }
 ],
 "metadata": {
  "kernelspec": {
   "display_name": "Python 3",
   "language": "python",
   "name": "python3"
  },
  "language_info": {
   "codemirror_mode": {
    "name": "ipython",
    "version": 3
   },
   "file_extension": ".py",
   "mimetype": "text/x-python",
   "name": "python",
   "nbconvert_exporter": "python",
   "pygments_lexer": "ipython3",
   "version": "3.7.12"
  },
  "papermill": {
   "default_parameters": {},
   "duration": 33.856452,
   "end_time": "2023-03-15T05:52:20.416002",
   "environment_variables": {},
   "exception": null,
   "input_path": "__notebook__.ipynb",
   "output_path": "__notebook__.ipynb",
   "parameters": {},
   "start_time": "2023-03-15T05:51:46.559550",
   "version": "2.4.0"
  }
 },
 "nbformat": 4,
 "nbformat_minor": 5
}
