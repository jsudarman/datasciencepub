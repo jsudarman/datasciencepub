{
 "cells": [
  {
   "cell_type": "code",
   "execution_count": 1,
   "id": "3e568b0e",
   "metadata": {
    "_cell_guid": "b1076dfc-b9ad-4769-8c92-a6c4dae69d19",
    "_uuid": "8f2839f25d086af736a60e9eeb907d3b93b6e0e5",
    "execution": {
     "iopub.execute_input": "2023-03-14T18:09:00.874218Z",
     "iopub.status.busy": "2023-03-14T18:09:00.873247Z",
     "iopub.status.idle": "2023-03-14T18:09:00.889935Z",
     "shell.execute_reply": "2023-03-14T18:09:00.888587Z"
    },
    "papermill": {
     "duration": 0.024991,
     "end_time": "2023-03-14T18:09:00.892346",
     "exception": false,
     "start_time": "2023-03-14T18:09:00.867355",
     "status": "completed"
    },
    "tags": []
   },
   "outputs": [
    {
     "name": "stdout",
     "output_type": "stream",
     "text": [
      "/kaggle/input/nlpgettingstarted/sample_submission.csv\n",
      "/kaggle/input/nlpgettingstarted/train.csv\n",
      "/kaggle/input/nlpgettingstarted/test.csv\n"
     ]
    }
   ],
   "source": [
    "# This Python 3 environment comes with many helpful analytics libraries installed\n",
    "# It is defined by the kaggle/python Docker image: https://github.com/kaggle/docker-python\n",
    "# For example, here's several helpful packages to load\n",
    "\n",
    "import numpy as np # linear algebra\n",
    "import pandas as pd # data processing, CSV file I/O (e.g. pd.read_csv)\n",
    "\n",
    "# Input data files are available in the read-only \"../input/\" directory\n",
    "# For example, running this (by clicking run or pressing Shift+Enter) will list all files under the input directory\n",
    "\n",
    "import os\n",
    "for dirname, _, filenames in os.walk('/kaggle/input'):\n",
    "    for filename in filenames:\n",
    "        print(os.path.join(dirname, filename))\n",
    "\n",
    "# You can write up to 20GB to the current directory (/kaggle/working/) that gets preserved as output when you create a version using \"Save & Run All\" \n",
    "# You can also write temporary files to /kaggle/temp/, but they won't be saved outside of the current session"
   ]
  },
  {
   "cell_type": "code",
   "execution_count": 2,
   "id": "9b12bba4",
   "metadata": {
    "execution": {
     "iopub.execute_input": "2023-03-14T18:09:00.901905Z",
     "iopub.status.busy": "2023-03-14T18:09:00.901564Z",
     "iopub.status.idle": "2023-03-14T18:09:01.919550Z",
     "shell.execute_reply": "2023-03-14T18:09:01.918549Z"
    },
    "papermill": {
     "duration": 1.025638,
     "end_time": "2023-03-14T18:09:01.922236",
     "exception": false,
     "start_time": "2023-03-14T18:09:00.896598",
     "status": "completed"
    },
    "tags": []
   },
   "outputs": [],
   "source": [
    "from sklearn import feature_extraction, linear_model, model_selection, preprocessing"
   ]
  },
  {
   "cell_type": "code",
   "execution_count": 3,
   "id": "c1ca6c3b",
   "metadata": {
    "execution": {
     "iopub.execute_input": "2023-03-14T18:09:01.931588Z",
     "iopub.status.busy": "2023-03-14T18:09:01.931276Z",
     "iopub.status.idle": "2023-03-14T18:09:01.974387Z",
     "shell.execute_reply": "2023-03-14T18:09:01.973356Z"
    },
    "papermill": {
     "duration": 0.050373,
     "end_time": "2023-03-14T18:09:01.976766",
     "exception": false,
     "start_time": "2023-03-14T18:09:01.926393",
     "status": "completed"
    },
    "tags": []
   },
   "outputs": [],
   "source": [
    "train_df = pd.read_csv(\"/kaggle/input/nlpgettingstarted/train.csv\")\n"
   ]
  },
  {
   "cell_type": "code",
   "execution_count": 4,
   "id": "899be1e4",
   "metadata": {
    "execution": {
     "iopub.execute_input": "2023-03-14T18:09:01.986482Z",
     "iopub.status.busy": "2023-03-14T18:09:01.986075Z",
     "iopub.status.idle": "2023-03-14T18:09:02.007194Z",
     "shell.execute_reply": "2023-03-14T18:09:02.006089Z"
    },
    "papermill": {
     "duration": 0.029025,
     "end_time": "2023-03-14T18:09:02.009764",
     "exception": false,
     "start_time": "2023-03-14T18:09:01.980739",
     "status": "completed"
    },
    "tags": []
   },
   "outputs": [],
   "source": [
    "test_df = pd.read_csv(\"/kaggle/input/nlpgettingstarted/test.csv\")"
   ]
  },
  {
   "cell_type": "code",
   "execution_count": 5,
   "id": "efcd12e8",
   "metadata": {
    "execution": {
     "iopub.execute_input": "2023-03-14T18:09:02.019281Z",
     "iopub.status.busy": "2023-03-14T18:09:02.018887Z",
     "iopub.status.idle": "2023-03-14T18:09:02.043498Z",
     "shell.execute_reply": "2023-03-14T18:09:02.042571Z"
    },
    "papermill": {
     "duration": 0.031829,
     "end_time": "2023-03-14T18:09:02.045533",
     "exception": false,
     "start_time": "2023-03-14T18:09:02.013704",
     "status": "completed"
    },
    "tags": []
   },
   "outputs": [
    {
     "data": {
      "text/html": [
       "<div>\n",
       "<style scoped>\n",
       "    .dataframe tbody tr th:only-of-type {\n",
       "        vertical-align: middle;\n",
       "    }\n",
       "\n",
       "    .dataframe tbody tr th {\n",
       "        vertical-align: top;\n",
       "    }\n",
       "\n",
       "    .dataframe thead th {\n",
       "        text-align: right;\n",
       "    }\n",
       "</style>\n",
       "<table border=\"1\" class=\"dataframe\">\n",
       "  <thead>\n",
       "    <tr style=\"text-align: right;\">\n",
       "      <th></th>\n",
       "      <th>id</th>\n",
       "      <th>keyword</th>\n",
       "      <th>location</th>\n",
       "      <th>text</th>\n",
       "      <th>target</th>\n",
       "    </tr>\n",
       "  </thead>\n",
       "  <tbody>\n",
       "    <tr>\n",
       "      <th>0</th>\n",
       "      <td>1</td>\n",
       "      <td>NaN</td>\n",
       "      <td>NaN</td>\n",
       "      <td>Our Deeds are the Reason of this #earthquake M...</td>\n",
       "      <td>1</td>\n",
       "    </tr>\n",
       "    <tr>\n",
       "      <th>1</th>\n",
       "      <td>4</td>\n",
       "      <td>NaN</td>\n",
       "      <td>NaN</td>\n",
       "      <td>Forest fire near La Ronge Sask. Canada</td>\n",
       "      <td>1</td>\n",
       "    </tr>\n",
       "    <tr>\n",
       "      <th>2</th>\n",
       "      <td>5</td>\n",
       "      <td>NaN</td>\n",
       "      <td>NaN</td>\n",
       "      <td>All residents asked to 'shelter in place' are ...</td>\n",
       "      <td>1</td>\n",
       "    </tr>\n",
       "    <tr>\n",
       "      <th>3</th>\n",
       "      <td>6</td>\n",
       "      <td>NaN</td>\n",
       "      <td>NaN</td>\n",
       "      <td>13,000 people receive #wildfires evacuation or...</td>\n",
       "      <td>1</td>\n",
       "    </tr>\n",
       "    <tr>\n",
       "      <th>4</th>\n",
       "      <td>7</td>\n",
       "      <td>NaN</td>\n",
       "      <td>NaN</td>\n",
       "      <td>Just got sent this photo from Ruby #Alaska as ...</td>\n",
       "      <td>1</td>\n",
       "    </tr>\n",
       "  </tbody>\n",
       "</table>\n",
       "</div>"
      ],
      "text/plain": [
       "   id keyword location                                               text  \\\n",
       "0   1     NaN      NaN  Our Deeds are the Reason of this #earthquake M...   \n",
       "1   4     NaN      NaN             Forest fire near La Ronge Sask. Canada   \n",
       "2   5     NaN      NaN  All residents asked to 'shelter in place' are ...   \n",
       "3   6     NaN      NaN  13,000 people receive #wildfires evacuation or...   \n",
       "4   7     NaN      NaN  Just got sent this photo from Ruby #Alaska as ...   \n",
       "\n",
       "   target  \n",
       "0       1  \n",
       "1       1  \n",
       "2       1  \n",
       "3       1  \n",
       "4       1  "
      ]
     },
     "execution_count": 5,
     "metadata": {},
     "output_type": "execute_result"
    }
   ],
   "source": [
    "train_df.head()"
   ]
  },
  {
   "cell_type": "code",
   "execution_count": 6,
   "id": "62cf3d89",
   "metadata": {
    "execution": {
     "iopub.execute_input": "2023-03-14T18:09:02.054657Z",
     "iopub.status.busy": "2023-03-14T18:09:02.054330Z",
     "iopub.status.idle": "2023-03-14T18:09:02.065990Z",
     "shell.execute_reply": "2023-03-14T18:09:02.064246Z"
    },
    "papermill": {
     "duration": 0.019039,
     "end_time": "2023-03-14T18:09:02.068560",
     "exception": false,
     "start_time": "2023-03-14T18:09:02.049521",
     "status": "completed"
    },
    "tags": []
   },
   "outputs": [
    {
     "data": {
      "text/html": [
       "<div>\n",
       "<style scoped>\n",
       "    .dataframe tbody tr th:only-of-type {\n",
       "        vertical-align: middle;\n",
       "    }\n",
       "\n",
       "    .dataframe tbody tr th {\n",
       "        vertical-align: top;\n",
       "    }\n",
       "\n",
       "    .dataframe thead th {\n",
       "        text-align: right;\n",
       "    }\n",
       "</style>\n",
       "<table border=\"1\" class=\"dataframe\">\n",
       "  <thead>\n",
       "    <tr style=\"text-align: right;\">\n",
       "      <th></th>\n",
       "      <th>id</th>\n",
       "      <th>keyword</th>\n",
       "      <th>location</th>\n",
       "      <th>text</th>\n",
       "    </tr>\n",
       "  </thead>\n",
       "  <tbody>\n",
       "    <tr>\n",
       "      <th>0</th>\n",
       "      <td>0</td>\n",
       "      <td>NaN</td>\n",
       "      <td>NaN</td>\n",
       "      <td>Just happened a terrible car crash</td>\n",
       "    </tr>\n",
       "    <tr>\n",
       "      <th>1</th>\n",
       "      <td>2</td>\n",
       "      <td>NaN</td>\n",
       "      <td>NaN</td>\n",
       "      <td>Heard about #earthquake is different cities, s...</td>\n",
       "    </tr>\n",
       "    <tr>\n",
       "      <th>2</th>\n",
       "      <td>3</td>\n",
       "      <td>NaN</td>\n",
       "      <td>NaN</td>\n",
       "      <td>there is a forest fire at spot pond, geese are...</td>\n",
       "    </tr>\n",
       "    <tr>\n",
       "      <th>3</th>\n",
       "      <td>9</td>\n",
       "      <td>NaN</td>\n",
       "      <td>NaN</td>\n",
       "      <td>Apocalypse lighting. #Spokane #wildfires</td>\n",
       "    </tr>\n",
       "    <tr>\n",
       "      <th>4</th>\n",
       "      <td>11</td>\n",
       "      <td>NaN</td>\n",
       "      <td>NaN</td>\n",
       "      <td>Typhoon Soudelor kills 28 in China and Taiwan</td>\n",
       "    </tr>\n",
       "  </tbody>\n",
       "</table>\n",
       "</div>"
      ],
      "text/plain": [
       "   id keyword location                                               text\n",
       "0   0     NaN      NaN                 Just happened a terrible car crash\n",
       "1   2     NaN      NaN  Heard about #earthquake is different cities, s...\n",
       "2   3     NaN      NaN  there is a forest fire at spot pond, geese are...\n",
       "3   9     NaN      NaN           Apocalypse lighting. #Spokane #wildfires\n",
       "4  11     NaN      NaN      Typhoon Soudelor kills 28 in China and Taiwan"
      ]
     },
     "execution_count": 6,
     "metadata": {},
     "output_type": "execute_result"
    }
   ],
   "source": [
    "test_df.head()"
   ]
  },
  {
   "cell_type": "code",
   "execution_count": 7,
   "id": "e5b7d242",
   "metadata": {
    "execution": {
     "iopub.execute_input": "2023-03-14T18:09:02.079624Z",
     "iopub.status.busy": "2023-03-14T18:09:02.079271Z",
     "iopub.status.idle": "2023-03-14T18:09:02.092544Z",
     "shell.execute_reply": "2023-03-14T18:09:02.091618Z"
    },
    "papermill": {
     "duration": 0.02162,
     "end_time": "2023-03-14T18:09:02.094669",
     "exception": false,
     "start_time": "2023-03-14T18:09:02.073049",
     "status": "completed"
    },
    "tags": []
   },
   "outputs": [],
   "source": [
    "count_vectorizer = feature_extraction.text.CountVectorizer()\n",
    "example_train_vectors = count_vectorizer.fit_transform(train_df[\"text\"][0:5])"
   ]
  },
  {
   "cell_type": "code",
   "execution_count": 8,
   "id": "03c4b680",
   "metadata": {
    "execution": {
     "iopub.execute_input": "2023-03-14T18:09:02.107018Z",
     "iopub.status.busy": "2023-03-14T18:09:02.106238Z",
     "iopub.status.idle": "2023-03-14T18:09:02.115170Z",
     "shell.execute_reply": "2023-03-14T18:09:02.113527Z"
    },
    "papermill": {
     "duration": 0.019049,
     "end_time": "2023-03-14T18:09:02.118243",
     "exception": false,
     "start_time": "2023-03-14T18:09:02.099194",
     "status": "completed"
    },
    "tags": []
   },
   "outputs": [
    {
     "name": "stdout",
     "output_type": "stream",
     "text": [
      "(1, 54)\n",
      "[[0 0 0 1 1 1 0 0 0 0 0 0 1 1 0 0 0 0 1 0 0 0 0 0 0 1 0 0 0 1 0 0 0 0 1 0\n",
      "  0 0 0 1 0 0 0 0 0 0 0 0 0 1 1 0 1 0]]\n"
     ]
    }
   ],
   "source": [
    "## we use .todense() here because these vectors are \"sparse\" (only non-zero elements are kept to save space)\n",
    "print(example_train_vectors[0].todense().shape)\n",
    "print(example_train_vectors[0].todense())"
   ]
  },
  {
   "cell_type": "code",
   "execution_count": 9,
   "id": "555fb2ae",
   "metadata": {
    "execution": {
     "iopub.execute_input": "2023-03-14T18:09:02.129428Z",
     "iopub.status.busy": "2023-03-14T18:09:02.128743Z",
     "iopub.status.idle": "2023-03-14T18:09:02.310753Z",
     "shell.execute_reply": "2023-03-14T18:09:02.309606Z"
    },
    "papermill": {
     "duration": 0.190683,
     "end_time": "2023-03-14T18:09:02.313518",
     "exception": false,
     "start_time": "2023-03-14T18:09:02.122835",
     "status": "completed"
    },
    "tags": []
   },
   "outputs": [],
   "source": [
    "train_vectors = count_vectorizer.fit_transform(train_df[\"text\"])\n",
    "test_vectors = count_vectorizer.transform(test_df[\"text\"])"
   ]
  },
  {
   "cell_type": "code",
   "execution_count": 10,
   "id": "93039d97",
   "metadata": {
    "execution": {
     "iopub.execute_input": "2023-03-14T18:09:02.323742Z",
     "iopub.status.busy": "2023-03-14T18:09:02.323411Z",
     "iopub.status.idle": "2023-03-14T18:09:02.327691Z",
     "shell.execute_reply": "2023-03-14T18:09:02.326799Z"
    },
    "papermill": {
     "duration": 0.011835,
     "end_time": "2023-03-14T18:09:02.329856",
     "exception": false,
     "start_time": "2023-03-14T18:09:02.318021",
     "status": "completed"
    },
    "tags": []
   },
   "outputs": [],
   "source": [
    "## Our vectors are really big, so we want to push our model's weights\n",
    "## toward 0 without completely discounting different words - ridge regression \n",
    "## is a good way to do this.\n",
    "clf = linear_model.RidgeClassifier()"
   ]
  },
  {
   "cell_type": "code",
   "execution_count": 11,
   "id": "40800c80",
   "metadata": {
    "execution": {
     "iopub.execute_input": "2023-03-14T18:09:02.340677Z",
     "iopub.status.busy": "2023-03-14T18:09:02.340061Z",
     "iopub.status.idle": "2023-03-14T18:09:02.680886Z",
     "shell.execute_reply": "2023-03-14T18:09:02.679892Z"
    },
    "papermill": {
     "duration": 0.348616,
     "end_time": "2023-03-14T18:09:02.683083",
     "exception": false,
     "start_time": "2023-03-14T18:09:02.334467",
     "status": "completed"
    },
    "tags": []
   },
   "outputs": [
    {
     "name": "stdout",
     "output_type": "stream",
     "text": [
      "[0.59421842 0.56498283 0.64113893]\n"
     ]
    }
   ],
   "source": [
    "scores = model_selection.cross_val_score(clf, train_vectors, train_df[\"target\"], cv=3, scoring=\"f1\")\n",
    "print(scores)"
   ]
  },
  {
   "cell_type": "code",
   "execution_count": 12,
   "id": "0024b3fb",
   "metadata": {
    "execution": {
     "iopub.execute_input": "2023-03-14T18:09:02.695756Z",
     "iopub.status.busy": "2023-03-14T18:09:02.695397Z",
     "iopub.status.idle": "2023-03-14T18:09:02.852390Z",
     "shell.execute_reply": "2023-03-14T18:09:02.851555Z"
    },
    "papermill": {
     "duration": 0.165922,
     "end_time": "2023-03-14T18:09:02.854627",
     "exception": false,
     "start_time": "2023-03-14T18:09:02.688705",
     "status": "completed"
    },
    "tags": []
   },
   "outputs": [
    {
     "data": {
      "text/plain": [
       "RidgeClassifier()"
      ]
     },
     "execution_count": 12,
     "metadata": {},
     "output_type": "execute_result"
    }
   ],
   "source": [
    "clf.fit(train_vectors, train_df[\"target\"])"
   ]
  },
  {
   "cell_type": "code",
   "execution_count": 13,
   "id": "92f42e18",
   "metadata": {
    "execution": {
     "iopub.execute_input": "2023-03-14T18:09:02.867715Z",
     "iopub.status.busy": "2023-03-14T18:09:02.867085Z",
     "iopub.status.idle": "2023-03-14T18:09:02.881683Z",
     "shell.execute_reply": "2023-03-14T18:09:02.880850Z"
    },
    "papermill": {
     "duration": 0.024211,
     "end_time": "2023-03-14T18:09:02.884344",
     "exception": false,
     "start_time": "2023-03-14T18:09:02.860133",
     "status": "completed"
    },
    "tags": []
   },
   "outputs": [],
   "source": [
    "sample_submission = pd.read_csv(\"/kaggle/input/nlpgettingstarted/sample_submission.csv\")"
   ]
  },
  {
   "cell_type": "code",
   "execution_count": 14,
   "id": "58c5b305",
   "metadata": {
    "execution": {
     "iopub.execute_input": "2023-03-14T18:09:02.896463Z",
     "iopub.status.busy": "2023-03-14T18:09:02.896125Z",
     "iopub.status.idle": "2023-03-14T18:09:02.900879Z",
     "shell.execute_reply": "2023-03-14T18:09:02.900159Z"
    },
    "papermill": {
     "duration": 0.014624,
     "end_time": "2023-03-14T18:09:02.904507",
     "exception": false,
     "start_time": "2023-03-14T18:09:02.889883",
     "status": "completed"
    },
    "tags": []
   },
   "outputs": [],
   "source": [
    "sample_submission[\"target\"] = clf.predict(test_vectors)"
   ]
  },
  {
   "cell_type": "code",
   "execution_count": 15,
   "id": "3e13dbce",
   "metadata": {
    "execution": {
     "iopub.execute_input": "2023-03-14T18:09:02.918505Z",
     "iopub.status.busy": "2023-03-14T18:09:02.917954Z",
     "iopub.status.idle": "2023-03-14T18:09:02.928744Z",
     "shell.execute_reply": "2023-03-14T18:09:02.927911Z"
    },
    "papermill": {
     "duration": 0.020981,
     "end_time": "2023-03-14T18:09:02.931561",
     "exception": false,
     "start_time": "2023-03-14T18:09:02.910580",
     "status": "completed"
    },
    "tags": []
   },
   "outputs": [
    {
     "data": {
      "text/html": [
       "<div>\n",
       "<style scoped>\n",
       "    .dataframe tbody tr th:only-of-type {\n",
       "        vertical-align: middle;\n",
       "    }\n",
       "\n",
       "    .dataframe tbody tr th {\n",
       "        vertical-align: top;\n",
       "    }\n",
       "\n",
       "    .dataframe thead th {\n",
       "        text-align: right;\n",
       "    }\n",
       "</style>\n",
       "<table border=\"1\" class=\"dataframe\">\n",
       "  <thead>\n",
       "    <tr style=\"text-align: right;\">\n",
       "      <th></th>\n",
       "      <th>id</th>\n",
       "      <th>target</th>\n",
       "    </tr>\n",
       "  </thead>\n",
       "  <tbody>\n",
       "    <tr>\n",
       "      <th>0</th>\n",
       "      <td>0</td>\n",
       "      <td>0</td>\n",
       "    </tr>\n",
       "    <tr>\n",
       "      <th>1</th>\n",
       "      <td>2</td>\n",
       "      <td>1</td>\n",
       "    </tr>\n",
       "    <tr>\n",
       "      <th>2</th>\n",
       "      <td>3</td>\n",
       "      <td>1</td>\n",
       "    </tr>\n",
       "    <tr>\n",
       "      <th>3</th>\n",
       "      <td>9</td>\n",
       "      <td>0</td>\n",
       "    </tr>\n",
       "    <tr>\n",
       "      <th>4</th>\n",
       "      <td>11</td>\n",
       "      <td>1</td>\n",
       "    </tr>\n",
       "  </tbody>\n",
       "</table>\n",
       "</div>"
      ],
      "text/plain": [
       "   id  target\n",
       "0   0       0\n",
       "1   2       1\n",
       "2   3       1\n",
       "3   9       0\n",
       "4  11       1"
      ]
     },
     "execution_count": 15,
     "metadata": {},
     "output_type": "execute_result"
    }
   ],
   "source": [
    "sample_submission.head()"
   ]
  }
 ],
 "metadata": {
  "kernelspec": {
   "display_name": "Python 3",
   "language": "python",
   "name": "python3"
  },
  "language_info": {
   "codemirror_mode": {
    "name": "ipython",
    "version": 3
   },
   "file_extension": ".py",
   "mimetype": "text/x-python",
   "name": "python",
   "nbconvert_exporter": "python",
   "pygments_lexer": "ipython3",
   "version": "3.7.12"
  },
  "papermill": {
   "default_parameters": {},
   "duration": 11.049928,
   "end_time": "2023-03-14T18:09:03.657665",
   "environment_variables": {},
   "exception": null,
   "input_path": "__notebook__.ipynb",
   "output_path": "__notebook__.ipynb",
   "parameters": {},
   "start_time": "2023-03-14T18:08:52.607737",
   "version": "2.4.0"
  }
 },
 "nbformat": 4,
 "nbformat_minor": 5
}
